{
 "cells": [
  {
   "cell_type": "markdown",
   "id": "8783989d-063f-4f8d-8640-5889191e78a9",
   "metadata": {},
   "source": [
    "# Data Types\n",
    "\n",
    "**Reference**: [Link](https://www.kaggle.com/code/alexisbcook/data-types)\n",
    "\n",
    "Explore integers, floats, booleans, and strings.\n"
   ]
  },
  {
   "cell_type": "markdown",
   "id": "87de434b-b447-4df6-bc59-f87533f477d6",
   "metadata": {},
   "source": [
    "<br>\n",
    "\n",
    "## Introduction\n",
    "\n",
    "Whenever you create a variable in Python, it has a value with a corresponding data type. There are many different data types, such as integers, floats, booleans, and strings, all of which we'll cover in this lesson. (This is just a small subset of the available data types -- there are also dictionaries, sets, lists, tuples, and much more.)\n",
    "\n",
    "Data types are important, because they determine what kinds of actions you can do with them. For instance, you can divide two floats, but you cannot divide two strings. For instance, `12.0/2.0` makes sense, but `\"cat\"/\"dog\"` does not.\n",
    "\n",
    "To avoid errors, we need to make sure that the actions match the data types that we have.\n"
   ]
  },
  {
   "cell_type": "markdown",
   "id": "f8b8a2b1-96f1-440d-8174-a8fb29aea091",
   "metadata": {},
   "source": [
    "<br>\n",
    "\n",
    "## Integers\n",
    "\n",
    "Integers are numbers without any fractional part and can be positive (`1`, `2`, `3`, ...), negative (`-1`, `-2`, `-3`, ...), or zero (`0`).\n",
    "\n",
    "In the code cell below, we set a variable `x` to an integer. We then verify the data type with `type()`, and need only pass the variable name into the parentheses.\n"
   ]
  },
  {
   "cell_type": "code",
   "execution_count": 1,
   "id": "acd188c0-931f-4635-ba1b-0059aaeea607",
   "metadata": {},
   "outputs": [
    {
     "name": "stdout",
     "output_type": "stream",
     "text": [
      "14\n",
      "<class 'int'>\n"
     ]
    }
   ],
   "source": [
    "x = 14\n",
    "print(x)\n",
    "print(type(x))"
   ]
  },
  {
   "cell_type": "markdown",
   "id": "5e361bad-f9c0-4ae0-bb5a-a266550a3aae",
   "metadata": {},
   "source": [
    "<br>\n",
    "\n",
    "In the output above, `<class 'int'>` refers to the **int**eger data type.\n"
   ]
  },
  {
   "cell_type": "markdown",
   "id": "cc0dba00-7fec-4883-9a34-5a8197b52108",
   "metadata": {},
   "source": [
    "<br>\n",
    "\n",
    "## Floats\n",
    "\n",
    "Floats are numbers with fractional parts. They can have many numbers after decimal.\n"
   ]
  },
  {
   "cell_type": "code",
   "execution_count": 2,
   "id": "de2aadf7-61c6-4ac6-88d4-1458fdafc150",
   "metadata": {},
   "outputs": [
    {
     "name": "stdout",
     "output_type": "stream",
     "text": [
      "3.141592653589793\n",
      "<class 'float'>\n"
     ]
    }
   ],
   "source": [
    "nearly_pi = 3.141592653589793238462643383279502884197169399375105820974944\n",
    "print(nearly_pi)\n",
    "print(type(nearly_pi))"
   ]
  },
  {
   "cell_type": "markdown",
   "id": "c762330c-7991-4645-89fa-d5f7db3b4480",
   "metadata": {},
   "source": [
    "<br>\n",
    "\n",
    "We can also specify a float with a fraction."
   ]
  },
  {
   "cell_type": "code",
   "execution_count": 3,
   "id": "42f3c092-8ab3-449b-8d88-ebcdd80164ce",
   "metadata": {},
   "outputs": [
    {
     "name": "stdout",
     "output_type": "stream",
     "text": [
      "3.142857142857143\n",
      "<class 'float'>\n"
     ]
    }
   ],
   "source": [
    "almost_pi = 22/7\n",
    "print(almost_pi)\n",
    "print(type(almost_pi))"
   ]
  },
  {
   "cell_type": "markdown",
   "id": "11a0f97b-1326-4f4a-a95a-2acae512e622",
   "metadata": {},
   "source": [
    "<br>\n",
    "\n",
    "One function that is particularly useful for fractions is the `round()` function. It lets you round a number to a specified number of decimal places.\n"
   ]
  },
  {
   "cell_type": "code",
   "execution_count": 4,
   "id": "93bd6f1e-6ed9-43f1-8f45-1cd1258471fd",
   "metadata": {},
   "outputs": [
    {
     "name": "stdout",
     "output_type": "stream",
     "text": [
      "3.14286\n",
      "<class 'float'>\n"
     ]
    }
   ],
   "source": [
    "# Round to 5 decimal places\n",
    "rounded_pi = round(almost_pi, 5)\n",
    "print(rounded_pi)\n",
    "print(type(rounded_pi))"
   ]
  },
  {
   "cell_type": "markdown",
   "id": "6f4f9c7f-ef15-424f-90b6-7505a1a21355",
   "metadata": {},
   "source": [
    "<br>\n",
    "\n",
    "Whenever you write an number with a decimal point, Python recognizes it as a float data type.\n",
    "\n",
    "For instance, `1.` (or `1.0`, `1.00`, etc) will be recognized as a float. This is the case, even though these numbers technically have no fractional part!\n"
   ]
  },
  {
   "cell_type": "code",
   "execution_count": 5,
   "id": "42826e24-4e26-487b-82a7-5b0a5ed98773",
   "metadata": {},
   "outputs": [
    {
     "name": "stdout",
     "output_type": "stream",
     "text": [
      "1.0\n",
      "<class 'float'>\n"
     ]
    }
   ],
   "source": [
    "y_float = 1.\n",
    "print(y_float)\n",
    "print(type(y_float))"
   ]
  },
  {
   "cell_type": "markdown",
   "id": "a488ad67-fca4-42f1-930c-0255c08ee8a7",
   "metadata": {},
   "source": [
    "<br>\n",
    "\n",
    "## Booleans\n",
    "\n",
    "Booleans represent one of two values: `True` or `False`. In the code cell below, `z_one` is set to a boolean with value `True`."
   ]
  },
  {
   "cell_type": "code",
   "execution_count": 6,
   "id": "270e74bb-7afc-4c44-bb9d-d9c2fa2c8543",
   "metadata": {},
   "outputs": [
    {
     "name": "stdout",
     "output_type": "stream",
     "text": [
      "True\n",
      "<class 'bool'>\n"
     ]
    }
   ],
   "source": [
    "z_one = True\n",
    "print(z_one)\n",
    "print(type(z_one))"
   ]
  },
  {
   "cell_type": "markdown",
   "id": "5975975e-6457-4689-b94d-d867c2dbacf8",
   "metadata": {},
   "source": [
    "<br>\n",
    "\n",
    "Next, `z_two` is set to a boolean with value False."
   ]
  },
  {
   "cell_type": "code",
   "execution_count": 7,
   "id": "08fd08c0-4429-4c02-9576-6ceb9a9eba33",
   "metadata": {},
   "outputs": [
    {
     "name": "stdout",
     "output_type": "stream",
     "text": [
      "False\n",
      "<class 'bool'>\n"
     ]
    }
   ],
   "source": [
    "z_two = False\n",
    "print(z_two)\n",
    "print(type(z_two))"
   ]
  },
  {
   "cell_type": "markdown",
   "id": "80d473c4-32fe-40f8-b7da-2eb1f7fc3708",
   "metadata": {},
   "source": [
    "<br>\n",
    "\n",
    "Booleans are used to represent the truth value of an expression. Since `1 < 2` is a true statement, `z_three` takes on a value of `True`."
   ]
  },
  {
   "cell_type": "code",
   "execution_count": 8,
   "id": "5f0e0cab-553b-4f88-97f8-87af5da04dd9",
   "metadata": {},
   "outputs": [
    {
     "name": "stdout",
     "output_type": "stream",
     "text": [
      "True\n",
      "<class 'bool'>\n"
     ]
    }
   ],
   "source": [
    "z_three = (1 < 2)\n",
    "print(z_three)\n",
    "print(type(z_three))"
   ]
  },
  {
   "cell_type": "markdown",
   "id": "ad9b4de5-a193-4894-9ec4-f4e3a3cc8175",
   "metadata": {},
   "source": [
    "<br>\n",
    "\n",
    "Similarly, since `5 < 3` is a false statement, `z_four` takes on a value of False.\n"
   ]
  },
  {
   "cell_type": "code",
   "execution_count": 9,
   "id": "2c92d34d-f62c-4659-aa61-f2a2cdfa87bc",
   "metadata": {},
   "outputs": [
    {
     "name": "stdout",
     "output_type": "stream",
     "text": [
      "False\n",
      "<class 'bool'>\n"
     ]
    }
   ],
   "source": [
    "z_four = (5 < 3)\n",
    "print(z_four)\n",
    "print(type(z_four))"
   ]
  },
  {
   "cell_type": "markdown",
   "id": "a8209836-f261-4624-951b-12150fb5471a",
   "metadata": {},
   "source": [
    "<br>\n",
    "\n",
    "Booleans will be important in the next lesson, when you learn about conditions and conditional statements.\n"
   ]
  },
  {
   "cell_type": "markdown",
   "id": "bbb133ea-6e2e-4b66-8573-cdccea4d03d7",
   "metadata": {},
   "source": [
    "<br>\n",
    "\n",
    "## Strings\n",
    "\n",
    "The string data type is a collection of characters (like alphabet letters, punctuation, numerical digits, or symbols) contained in quotation marks. Strings are commonly used to represent text.\n"
   ]
  },
  {
   "cell_type": "code",
   "execution_count": 10,
   "id": "78fbd019-7744-4e9d-8649-e1c329f64978",
   "metadata": {},
   "outputs": [
    {
     "name": "stdout",
     "output_type": "stream",
     "text": [
      "Hello, Python!\n",
      "<class 'str'>\n"
     ]
    }
   ],
   "source": [
    "w = \"Hello, Python!\"\n",
    "print(w)\n",
    "print(type(w))"
   ]
  },
  {
   "cell_type": "markdown",
   "id": "855cdd49-9ee3-454f-934a-5f67e3df4ba1",
   "metadata": {},
   "source": [
    "<br>\n",
    "\n",
    "You can get the length of a string with `len()`. \"Hello, Python!\" has length 14, because it has 14 characters, including the space, comma, and exclamation mark. Note that the quotation marks are not included when calculating the length."
   ]
  },
  {
   "cell_type": "code",
   "execution_count": 11,
   "id": "b6ec1269-fdd8-4d25-8444-5dffaa32b918",
   "metadata": {},
   "outputs": [
    {
     "name": "stdout",
     "output_type": "stream",
     "text": [
      "14\n"
     ]
    }
   ],
   "source": [
    "print(len(w))"
   ]
  },
  {
   "cell_type": "markdown",
   "id": "846f4f80-d7fd-4526-9b2e-ea1280c5c874",
   "metadata": {},
   "source": [
    "<br>\n",
    "\n",
    "One special type of string is the empty string, which has length zero."
   ]
  },
  {
   "cell_type": "code",
   "execution_count": 12,
   "id": "5b3d4efc-343d-40a7-b2ee-e73d3db0c0ea",
   "metadata": {},
   "outputs": [
    {
     "name": "stdout",
     "output_type": "stream",
     "text": [
      "<class 'str'>\n",
      "0\n"
     ]
    }
   ],
   "source": [
    "shortest_string = \"\"\n",
    "print(type(shortest_string))\n",
    "print(len(shortest_string))"
   ]
  },
  {
   "cell_type": "markdown",
   "id": "8dd8163d-1c45-4948-b10c-e6b769473ce0",
   "metadata": {},
   "source": [
    "<br>\n",
    "\n",
    "If you put a number in quotation marks, it has a string data type."
   ]
  },
  {
   "cell_type": "code",
   "execution_count": 13,
   "id": "30565f62-08ca-4737-8fe9-9075cabe8ff3",
   "metadata": {},
   "outputs": [
    {
     "name": "stdout",
     "output_type": "stream",
     "text": [
      "1.12321\n",
      "<class 'str'>\n"
     ]
    }
   ],
   "source": [
    "my_number = \"1.12321\"\n",
    "print(my_number)\n",
    "print(type(my_number))"
   ]
  },
  {
   "cell_type": "markdown",
   "id": "74e0b826-301c-4ed9-9337-b0469c27c487",
   "metadata": {},
   "source": [
    "<br>\n",
    "\n",
    "If we have a string that is convertible to a float, we can use `float()`.\n",
    "\n",
    "This won't always work! For instance, we can convert \"`10.43430`\" and \"`3`\" to floats, but we cannot convert \"Hello, Python!\" to a float."
   ]
  },
  {
   "cell_type": "code",
   "execution_count": 14,
   "id": "7cca3cca-5504-4141-a5de-ea51119f9d7a",
   "metadata": {},
   "outputs": [
    {
     "name": "stdout",
     "output_type": "stream",
     "text": [
      "1.12321\n",
      "<class 'float'>\n"
     ]
    }
   ],
   "source": [
    "also_my_number = float(my_number)\n",
    "print(also_my_number)\n",
    "print(type(also_my_number))"
   ]
  },
  {
   "cell_type": "markdown",
   "id": "e6129517-5b55-4df5-925a-e39fef38d893",
   "metadata": {},
   "source": [
    "<br>\n",
    "\n",
    "Just like you can add two numbers (floats or integers), you can also add two strings. It results in a longer string that combines the two original strings by concatenating them."
   ]
  },
  {
   "cell_type": "code",
   "execution_count": 15,
   "id": "239e7711-1880-4368-8463-8c8b78cf742f",
   "metadata": {},
   "outputs": [
    {
     "name": "stdout",
     "output_type": "stream",
     "text": [
      "abcdef\n",
      "<class 'str'>\n"
     ]
    }
   ],
   "source": [
    "new_string = \"abc\" + \"def\"\n",
    "print(new_string)\n",
    "print(type(new_string))"
   ]
  },
  {
   "cell_type": "markdown",
   "id": "99412d59-84fc-4d61-af13-e3be52087224",
   "metadata": {},
   "source": [
    "<br>\n",
    "\n",
    "Note that it's not possible to do subtraction or division with two strings. You also can't multiply two strings, but you can multiply a string by an integer. This again results in a string that's just the original string concatenated with itself a specified number of times."
   ]
  },
  {
   "cell_type": "code",
   "execution_count": 16,
   "id": "cd10b2e1-958b-4608-807e-977212ca3d81",
   "metadata": {},
   "outputs": [
    {
     "name": "stdout",
     "output_type": "stream",
     "text": [
      "abcabcabc\n",
      "<class 'str'>\n"
     ]
    }
   ],
   "source": [
    "newest_string = \"abc\" * 3\n",
    "print(newest_string)\n",
    "print(type(newest_string))"
   ]
  },
  {
   "cell_type": "markdown",
   "id": "1f3de3c4-0230-43dc-a461-75f69fa047e0",
   "metadata": {},
   "source": [
    "<br>\n",
    "\n",
    "Note that you cannot multiply a string by a float! Trying to do so will return an error."
   ]
  },
  {
   "cell_type": "code",
   "execution_count": 17,
   "id": "f7929719-0cf6-4c47-aed7-37e642805d93",
   "metadata": {},
   "outputs": [
    {
     "ename": "TypeError",
     "evalue": "can't multiply sequence by non-int of type 'float'",
     "output_type": "error",
     "traceback": [
      "\u001b[1;31m---------------------------------------------------------------------------\u001b[0m",
      "\u001b[1;31mTypeError\u001b[0m                                 Traceback (most recent call last)",
      "\u001b[1;32m~\\AppData\\Local\\Temp/ipykernel_5096/2386798361.py\u001b[0m in \u001b[0;36m<module>\u001b[1;34m\u001b[0m\n\u001b[1;32m----> 1\u001b[1;33m \u001b[0mwill_not_work\u001b[0m \u001b[1;33m=\u001b[0m \u001b[1;34m\"abc\"\u001b[0m \u001b[1;33m*\u001b[0m \u001b[1;36m3.\u001b[0m\u001b[1;33m\u001b[0m\u001b[1;33m\u001b[0m\u001b[0m\n\u001b[0m",
      "\u001b[1;31mTypeError\u001b[0m: can't multiply sequence by non-int of type 'float'"
     ]
    }
   ],
   "source": [
    "will_not_work = \"abc\" * 3."
   ]
  },
  {
   "cell_type": "markdown",
   "id": "0847367e-07a6-4dee-a60e-7a5ec01af4da",
   "metadata": {},
   "source": [
    "<br>\n",
    "\n",
    "In the error, the \"sequence\" is the string `\"abc\"`, and the \"non-int of type 'float'\" is the float (`3.`). So, the error message can be reworded to say `\"can't multiply string by float\"`."
   ]
  },
  {
   "cell_type": "markdown",
   "id": "590e4664-fb63-435d-9b1c-d6feb2606716",
   "metadata": {},
   "source": [
    "<br>\n",
    "\n",
    "## Your turn\n",
    "\n",
    "Write your own code to [explore different data types]()."
   ]
  }
 ],
 "metadata": {
  "kernelspec": {
   "display_name": "Python 3 (ipykernel)",
   "language": "python",
   "name": "python3"
  },
  "language_info": {
   "codemirror_mode": {
    "name": "ipython",
    "version": 3
   },
   "file_extension": ".py",
   "mimetype": "text/x-python",
   "name": "python",
   "nbconvert_exporter": "python",
   "pygments_lexer": "ipython3",
   "version": "3.9.7"
  }
 },
 "nbformat": 4,
 "nbformat_minor": 5
}
