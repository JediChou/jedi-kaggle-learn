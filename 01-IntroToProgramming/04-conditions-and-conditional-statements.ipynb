{
 "cells": [
  {
   "cell_type": "markdown",
   "id": "df8ca459-cab8-4845-a106-6a6b1449910a",
   "metadata": {},
   "source": [
    "# Conditions and Conditional Statements\n",
    "\n",
    "**Reference**: [Link](https://www.kaggle.com/code/alexisbcook/conditions-and-conditional-statements/tutorial)\n",
    "\n",
    "Modify how functions run, depending on the input.\n"
   ]
  },
  {
   "cell_type": "markdown",
   "id": "0bcc187a-3243-423b-a150-ba0c9784997c",
   "metadata": {},
   "source": [
    "<br>\n",
    "\n",
    "## Introduction\n",
    "\n",
    "You have already seen that when you change the input value to a function, you often get a different output. For instance, consider an `add_five()` function that just adds five to any number and returns the result. Then `add_five(7)` will return an output of `12 (=7+5)`, and `add_five(8)` will return an output of `13 (=8+5)`. Note that no matter what the input is, the action that the function performs is always the same: it always adds five.\n",
    "\n",
    "But you might instead need a function that performs an action that depends on the input. For instance, you might need a function `add_three_or_eight()` that adds three if the input is less than 10, and adds eight if the input is 10 or more. Then `add_three_or_eight(1)` will `return 4 (= 1+3)`, but `add_three_or_eight(11)` will `return 19 (=11+8)`. In this case, the action that the function performs varies with the input.\n",
    "\n",
    "In this lesson, you will learn how to use conditions and conditional statements to modify how your functions run."
   ]
  },
  {
   "cell_type": "markdown",
   "id": "c5bb1cd7-8bfe-4f31-985a-4f358426c205",
   "metadata": {},
   "source": [
    "<br>\n",
    "\n",
    "## Conditions\n",
    "\n",
    "In programming, **conditions** are statements that are either `True` or `False`. There are many different ways to write conditions in Python, but some of the most common ways of writing conditions just compare two different values. For instance, you can check if 2 is greater than 3.\n"
   ]
  },
  {
   "cell_type": "code",
   "execution_count": 1,
   "id": "8db6bad5-7d63-4757-af41-a1df0ed61301",
   "metadata": {},
   "outputs": [
    {
     "name": "stdout",
     "output_type": "stream",
     "text": [
      "False\n"
     ]
    }
   ],
   "source": [
    "print(2 > 3)"
   ]
  },
  {
   "cell_type": "markdown",
   "id": "4d2a21fe-b1b6-4bd4-84c7-a623e5c4c79b",
   "metadata": {},
   "source": [
    "<br>\n",
    "\n",
    "Python identifies this as False, since 2 is not greater than 3.\n",
    "\n",
    "You can also use conditions to compare the values of variables. In the next code cell, var_one has a value of 1, and `var_two` has a value of two. In the conditions, we check if `var_one` is less than `1` (which is `False`), and we check if `var_two` is greater than or equal to var_one (which is `True`)."
   ]
  },
  {
   "cell_type": "code",
   "execution_count": 2,
   "id": "a238223e-3fee-4471-bfa5-b4f4d130805e",
   "metadata": {},
   "outputs": [
    {
     "name": "stdout",
     "output_type": "stream",
     "text": [
      "False\n",
      "True\n"
     ]
    }
   ],
   "source": [
    "var_one = 1\n",
    "var_two = 2\n",
    "\n",
    "print(var_one < 1)\n",
    "print(var_two >= var_one)"
   ]
  },
  {
   "cell_type": "markdown",
   "id": "e80148fc-8d80-4a61-9ffe-c899221af6f5",
   "metadata": {},
   "source": [
    "<br>\n",
    "\n",
    "For a list of common symbols you can use to construct conditions, check out the chart below.\n",
    "\n",
    "| Symbol | Meaning |\n",
    "|--------|---------|\n",
    "| == | equals |\n",
    "| != | does not equal |\n",
    "| <  | less than |\n",
    "| <= | less than or equal to |\n",
    "| >  | greater than |\n",
    "| >= | greater than or equal to |\n"
   ]
  },
  {
   "cell_type": "markdown",
   "id": "2aaac5b3-c287-4417-a4c0-0f16c4a9595e",
   "metadata": {},
   "source": [
    "**Important Note**: When you check two values are equal, make sure you use the `==` sign, and not the `=` sign.\n",
    "\n",
    "* `var_one==1` checks if the value of `var_one` is 1, but\n",
    "* `var_one=1` sets the value of `var_one` to 1."
   ]
  },
  {
   "cell_type": "markdown",
   "id": "3439391f-6a46-493b-8a95-2a180d6f57e0",
   "metadata": {},
   "source": [
    "<br>\n",
    "\n",
    "## Conditional statements\n",
    "\n",
    "**Conditional statements** use conditions to modify how your function runs. They check the value of a condition, and if the condition evaluates to `True`, then a certain block of code is executed. (Otherwise, if the condition is `False`, then the code is not run.)\n",
    "\n",
    "You will see several examples of this in the following sections.\n"
   ]
  },
  {
   "cell_type": "markdown",
   "id": "eeb49433-384a-455f-87c5-c09bf924a38d",
   "metadata": {},
   "source": [
    "<br>\n",
    "\n",
    "### \"if\" statements\n",
    "\n",
    "The simplest type of conditional statement is an \"if\" statement. You can see an example of this in the evaluate_temp() function below. The function accepts a body temperature (in Celcius) as input.\n",
    "\n",
    "* Initially, `message` is set to `\"Normal temperature\"`.\n"
   ]
  }
 ],
 "metadata": {
  "kernelspec": {
   "display_name": "Python 3 (ipykernel)",
   "language": "python",
   "name": "python3"
  },
  "language_info": {
   "codemirror_mode": {
    "name": "ipython",
    "version": 3
   },
   "file_extension": ".py",
   "mimetype": "text/x-python",
   "name": "python",
   "nbconvert_exporter": "python",
   "pygments_lexer": "ipython3",
   "version": "3.9.7"
  }
 },
 "nbformat": 4,
 "nbformat_minor": 5
}
