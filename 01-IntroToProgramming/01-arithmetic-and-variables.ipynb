{
 "cells": [
  {
   "cell_type": "code",
   "execution_count": 1,
   "id": "706da8e6-1a4d-453b-b040-aebd3ec51505",
   "metadata": {},
   "outputs": [
    {
     "data": {
      "text/html": [
       "<style>\n",
       "table {float:left}\n",
       "</style>\n"
      ],
      "text/plain": [
       "<IPython.core.display.HTML object>"
      ]
     },
     "metadata": {},
     "output_type": "display_data"
    }
   ],
   "source": [
    "%%html\n",
    "<style>\n",
    "table {float:left}\n",
    "</style>"
   ]
  },
  {
   "cell_type": "markdown",
   "id": "cbe1bed6-aa6d-42f5-97c2-5744ad11b46c",
   "metadata": {
    "tags": []
   },
   "source": [
    "# Arithmetic and Variables\n",
    "\n",
    "Make calculations, and define and modify variables.\n"
   ]
  },
  {
   "cell_type": "markdown",
   "id": "5e813952-7485-4a6d-8c8a-eb2f71fd2ed1",
   "metadata": {},
   "source": [
    "Welcome to the Intro to Programming course! This course is for you if you have never written a single line of code,\n",
    "and you are interested in learning data science and machine learning. (If you do have programming experience and are\n",
    "just new to the Python language, the Python course is a better fit to get started.)\n",
    "\n",
    "In this course, you will learn how to use code to get a computer to perform certain tasks for you. Python is one of\n",
    "the most popular programming languages for data science, and it's the language you'll learn in this course. Once you\n",
    "complete this course, you'll be fully prepared to progress to the Python course, followed by the Intro to Machine Learning\n",
    "course.\n",
    "\n",
    "In this tutorial, you'll see several examples of Python code. You'll get a chance to write your own code in the exercise.\n",
    "(If you'd like to preview the exercise, feel free to take a look now. We also provide a link to the exercise at the end\n",
    "of this tutorial.)\n"
   ]
  },
  {
   "cell_type": "markdown",
   "id": "561f9b4c-f864-494f-a02e-1072c9f37f03",
   "metadata": {},
   "source": [
    "## Printing\n",
    "\n",
    "One of the simplest (and most important!) tasks you can ask a computer to do is to print a message.\n",
    "\n",
    "In Python, we ask a computer to print a message for us by writing `print()` and putting the message inside the\n",
    "parentheses and enclosed in quotation marks. Below, we ask the computer to print the message `Hello, world!`."
   ]
  },
  {
   "cell_type": "code",
   "execution_count": 2,
   "id": "97b8b9a6-3dda-4923-9077-44fe792844a3",
   "metadata": {},
   "outputs": [
    {
     "name": "stdout",
     "output_type": "stream",
     "text": [
      "Hello, world!\n"
     ]
    }
   ],
   "source": [
    "print(\"Hello, world!\")"
   ]
  },
  {
   "cell_type": "markdown",
   "id": "ff1545fb-a764-4bc7-b128-6a3725b6862b",
   "metadata": {},
   "source": [
    "The code is inside the box (known as a **code cell**), and the computer's response\n",
    "(called the **output** of the code) is shown below the box. As you can see, the computer\n",
    "printed the message that we wanted.\n"
   ]
  },
  {
   "cell_type": "markdown",
   "id": "6768bdb7-6fb2-444d-b276-ecf14d06ca70",
   "metadata": {},
   "source": [
    "## Arithmetic\n",
    "\n",
    "We can also print the value of some arithmetic operation (such as addition, \n",
    "subtraction, multiplication, or division).\n",
    "\n",
    "For instance, in the next code cell, the computer adds 2 to 1 and then prints\n",
    "the result, which is 3. Note that unlike when we were simply printing text, \n",
    "we don't use any quotation marks.\n"
   ]
  },
  {
   "cell_type": "code",
   "execution_count": 3,
   "id": "330bd0b8-c3c3-474f-98c7-a98a05ff5dc6",
   "metadata": {},
   "outputs": [
    {
     "name": "stdout",
     "output_type": "stream",
     "text": [
      "3\n"
     ]
    }
   ],
   "source": [
    "print(1 + 2)"
   ]
  },
  {
   "cell_type": "markdown",
   "id": "3a9f1885-6af3-49d7-aadf-afdf4c72a502",
   "metadata": {},
   "source": [
    "We can also do subtraction in python. The next code cell subtracts 5 from 9 \n",
    "and prints the result, which is 4.\n"
   ]
  },
  {
   "cell_type": "code",
   "execution_count": 4,
   "id": "b00198d5-0550-41cd-a7b8-53e90defbaa6",
   "metadata": {},
   "outputs": [
    {
     "name": "stdout",
     "output_type": "stream",
     "text": [
      "4\n"
     ]
    }
   ],
   "source": [
    "print(9 - 5)"
   ]
  },
  {
   "cell_type": "markdown",
   "id": "3b10c1b8-5011-419b-8ce7-803bdce4775a",
   "metadata": {},
   "source": [
    "<br>\n",
    "\n",
    "You can actually do a lot of calculations with python! See the table below for some examples.\n",
    "\n",
    "| Operation | Symbol | Example |\n",
    "|-----------|--------|---------|\n",
    "| Addition | + | 1 + 2 = 3 |\n",
    "| Subtraction | - | 5 - 4 = 1 |\n",
    "| Multiplication | * | 2 * 4 = 8 |\n",
    "| Division | / | 6 / 3 = 2 |\n",
    "| Exponent | ** | 3 ** 2 = 9 |\n"
   ]
  },
  {
   "cell_type": "markdown",
   "id": "0330b211-45d5-4a7c-970c-c9f1267bc0c7",
   "metadata": {},
   "source": [
    "You can control the order of operations in long calculations with parentheses."
   ]
  },
  {
   "cell_type": "code",
   "execution_count": 5,
   "id": "fdf74435-8b14-4cf7-8ac0-7f4d7e226df0",
   "metadata": {},
   "outputs": [
    {
     "name": "stdout",
     "output_type": "stream",
     "text": [
      "196.0\n"
     ]
    }
   ],
   "source": [
    "print(((1 + 3) * (9 - 2) / 2) ** 2)"
   ]
  },
  {
   "cell_type": "markdown",
   "id": "4696f4c3-ec9e-4404-8fb7-b2f56ccbe3d7",
   "metadata": {},
   "source": [
    "In general, Python follows the [PEMDAS rule](https://www.mathsisfun.com/operation-order-pemdas.html)\n",
    "when deciding the order of operations."
   ]
  },
  {
   "cell_type": "markdown",
   "id": "7e66d021-e066-496d-936a-699da415d396",
   "metadata": {},
   "source": [
    "## Comments\n",
    "\n",
    "We use **comments** to annotate what code is doing. They help other people to \n",
    "understand your code, and they can also be helpful if you haven't looked at your\n",
    "own code in a while. So far, the code that we have written is very short, \n",
    "but annotations become more important when you have written a lot of code.\n",
    "\n",
    "For instance, in the next code cell, we multiply 3 by 2. We also add a comment\n",
    "(# Multiply 3 by 2) above the code to describe what the code is doing.\n"
   ]
  },
  {
   "cell_type": "code",
   "execution_count": 6,
   "id": "cda4d641-759a-48fd-bb7a-596deb286874",
   "metadata": {},
   "outputs": [
    {
     "name": "stdout",
     "output_type": "stream",
     "text": [
      "6\n"
     ]
    }
   ],
   "source": [
    "# Multiply 3 by 2\n",
    "print(3 * 2)"
   ]
  },
  {
   "cell_type": "markdown",
   "id": "6259e039-76fa-4aeb-b275-d837acfdc92a",
   "metadata": {},
   "source": [
    "To indicate to Python that a line is comment (and not Python code), \n",
    "you need to write a pound sign (`#`) as the very first character.\n",
    "\n",
    "Once Python sees the pound sign and recognizes that the line is a comment, \n",
    "it is completely ignored by the computer. This is important, because just \n",
    "like English or Hindi (or any other language!), Python is a language with \n",
    "very strict rules that need to be followed. Python is stricter than a human \n",
    "listener, though, and will just error if it can't understand the code.\n",
    "\n",
    "We can see an example of this, in the code cell below. Python errors if we \n",
    "remove the pound sign, because the text in the comment is not valid Python \n",
    "code, so it can't be interpreted properly.\n"
   ]
  },
  {
   "cell_type": "code",
   "execution_count": 7,
   "id": "acd7f400-b14b-47d3-b7e5-deec70a1b764",
   "metadata": {},
   "outputs": [
    {
     "ename": "SyntaxError",
     "evalue": "invalid syntax (Temp/ipykernel_14112/3750420471.py, line 1)",
     "output_type": "error",
     "traceback": [
      "\u001b[1;36m  File \u001b[1;32m\"C:\\Users\\Hao\\AppData\\Local\\Temp/ipykernel_14112/3750420471.py\"\u001b[1;36m, line \u001b[1;32m1\u001b[0m\n\u001b[1;33m    Multiply 3 by 2\u001b[0m\n\u001b[1;37m             ^\u001b[0m\n\u001b[1;31mSyntaxError\u001b[0m\u001b[1;31m:\u001b[0m invalid syntax\n"
     ]
    }
   ],
   "source": [
    "Multiply 3 by 2"
   ]
  },
  {
   "cell_type": "markdown",
   "id": "cf397e06-b83d-404a-b90f-8b234086ab2f",
   "metadata": {},
   "source": [
    "## Variables\n",
    "\n",
    "So far, you have used code to make a calculation and print the result,\n",
    "and the result isn't saved anywhere. However, you can imagine that you might want to save the result to work with it later. For this, you'll need to use **variables**.\n"
   ]
  },
  {
   "cell_type": "markdown",
   "id": "b68ce111-8173-4463-b243-c1cf1b21758e",
   "metadata": {},
   "source": [
    "### Creating variables\n",
    "\n",
    "The next code cell creates a variable named test_var and assigns it the value that we get when we add 5 to 4.\n",
    "\n",
    "We then print the value that is assigned to the variable, which is 9.\n"
   ]
  },
  {
   "cell_type": "code",
   "execution_count": null,
   "id": "8987d7a0-3a7d-487b-80f6-291050a0f802",
   "metadata": {},
   "outputs": [],
   "source": [
    "# Create a variable called test_var and give it a value of 4+5\n",
    "test_var = 4 + 5\n",
    "\n",
    "# Print the value of test_var\n",
    "print(test_var)"
   ]
  },
  {
   "cell_type": "markdown",
   "id": "7f7e2a2c-8b31-420a-baff-34498ec1a066",
   "metadata": {},
   "source": [
    "In general, to work with a variable, you need to begin by selecting the name \n",
    "you want to use. Variable names are ideally short and descriptive. They also \n",
    "need to satisfy several requirements:\n",
    "\n",
    "* They can't have spaces (e.g., test var is not allowed)\n",
    "* They can only include letters, numbers, and underscores (e.g., test_var! is not allowed)\n",
    "* They have to start with a letter or underscore (e.g., 1_var is not allowed)\n",
    "\n",
    "Then, to create the variable, you need to use = to assign the value that you\n",
    "want it to have.\n",
    "\n",
    "You can always take a look at the value assigned to the variable by using `print()`\n",
    "and putting the name of the variable in parentheses.\n",
    "\n",
    "Over time, you'll learn how to select good names for Python variables. It's completely\n",
    "fine for it to feel uncomfortable now, and the best way to learn is just by viewing a \n",
    "lot of Python code!\n"
   ]
  },
  {
   "cell_type": "markdown",
   "id": "61d6d9cc-949e-45ea-a6ed-7b3229a6012b",
   "metadata": {},
   "source": [
    "<br>\n",
    "\n",
    "### Manipulating variables\n",
    "\n",
    "You can always change the value assigned to a variable by overriding the previous value.\n",
    "\n",
    "In the code cell below, we change the value of my_var from 3 to 100.\n"
   ]
  },
  {
   "cell_type": "code",
   "execution_count": null,
   "id": "d53d170b-497d-40ff-aaaa-46882cbd8dc4",
   "metadata": {},
   "outputs": [],
   "source": [
    "# Set the value of a new variable to 3\n",
    "my_var = 3\n",
    "\n",
    "# Print the value assigned to my_var\n",
    "print(my_var)\n",
    "\n",
    "# Change the value of the variable to 100\n",
    "my_var = 100\n",
    "\n",
    "# Print the new value assigned to my_var\n",
    "print(my_var)"
   ]
  },
  {
   "cell_type": "markdown",
   "id": "a77062c8-47c5-4794-838c-fdf0c8b3cba5",
   "metadata": {},
   "source": [
    "<br>\n",
    "\n",
    "Note that in general, whenever you define a variable in a code cell,\n",
    "all of the code cells that follow also have access to the variable. \n",
    "For instance, we use the next code cell to access the values of my_var \n",
    "(from the code cell above) and test_var (from earlier in this tutorial).\n"
   ]
  },
  {
   "cell_type": "code",
   "execution_count": null,
   "id": "e4f2a99c-17e9-4aa4-ba37-8a7d866bd232",
   "metadata": {},
   "outputs": [],
   "source": [
    "print(my_var)\n",
    "print(test_var)"
   ]
  },
  {
   "cell_type": "markdown",
   "id": "7d8070ae-c194-4ffc-97bd-3d08f7e093d6",
   "metadata": {},
   "source": [
    "<br>\n",
    "\n",
    "The next code cell tells Python to increase the current value of `my_var` by 3.\n",
    "\n",
    "To do this, we still need to use `my_var =` like before. And also just like before, \n",
    "the new value we want to assign to the variable is to the right of the `=` sign.\n"
   ]
  },
  {
   "cell_type": "code",
   "execution_count": null,
   "id": "0c913a9c-acc0-4822-8ec2-1358518dc1ce",
   "metadata": {},
   "outputs": [],
   "source": [
    "# Increase the value by 3\n",
    "my_var = my_var + 3\n",
    "\n",
    "# Print the value assigned to my_var\n",
    "print(my_var)"
   ]
  },
  {
   "cell_type": "markdown",
   "id": "bec50801-b8f4-40fc-b83c-69993d26221e",
   "metadata": {},
   "source": [
    "<br>\n",
    "\n",
    "### Using multiple variables\n",
    "\n",
    "It's common for code to use multiple variables. This is especially useful when\n",
    "we have to do a long calculation with multiple inputs.\n",
    "\n",
    "In the next code cell, we calculate the number of seconds in four years. This \n",
    "calculation uses five inputs.\n"
   ]
  },
  {
   "cell_type": "code",
   "execution_count": null,
   "id": "ef81ed51-808b-439e-ba0a-cf5903ba1fc9",
   "metadata": {},
   "outputs": [],
   "source": [
    "# Create variables\n",
    "num_years = 4\n",
    "days_per_year = 365 \n",
    "hours_per_day = 24\n",
    "mins_per_hour = 60\n",
    "secs_per_min = 60\n",
    "\n",
    "# Calculate number of seconds in four years\n",
    "total_secs = secs_per_min * mins_per_hour * hours_per_day * days_per_year * num_years\n",
    "print(total_secs)\n"
   ]
  },
  {
   "cell_type": "markdown",
   "id": "94af3cfe-c449-4f15-bbf7-72a970709fde",
   "metadata": {},
   "source": [
    "<br>\n",
    "\n",
    "As calculated above, there are 126144000 seconds in four years.\n",
    "\n",
    "Note it is possible to do this calculation without variables as just 60 * 60 * 24 * 365 * 4, \n",
    "but it is much harder to check that the calculation without variables does not have some error, \n",
    "because it is not as readable. When we use variables (such as num_years, days_per_year, etc), \n",
    "we can better keep track of each part of the calculation and more easily check for and correct any mistakes.\n",
    "\n",
    "Note that it is particularly useful to use variables when the values of the inputs can change. \n",
    "For instance, say we want to slightly improve our estimate by updating the value of the number \n",
    "of days in a year from 365 to 365.25, to account for leap years. Then we can change the value \n",
    "assigned to days_per_year without changing any of the other variables and redo the calculation.\n"
   ]
  },
  {
   "cell_type": "code",
   "execution_count": null,
   "id": "456f8519-d1b9-40df-a7cd-d7fe27f06a85",
   "metadata": {},
   "outputs": [],
   "source": [
    "# Update to include leap years\n",
    "days_per_year = 365.25\n",
    "\n",
    "# Calculate number of seconds in four years\n",
    "total_secs = secs_per_min * mins_per_hour * hours_per_day * days_per_year * num_years\n",
    "print(total_secs)\n"
   ]
  },
  {
   "cell_type": "markdown",
   "id": "d0388cb0-295f-4402-b0a6-0c793f0ee1e6",
   "metadata": {},
   "source": [
    "<br>\n",
    "\n",
    "**Note**: You might have noticed the .0 added at the end of the number, \n",
    "which might look unnecessary. This is caused by the fact that in the second \n",
    "calculation, we used a number with a fractional part (365.25), whereas the \n",
    "first calculation multipled just numbers with no fractional part. You'll \n",
    "learn more about this in Lesson 3, when we cover data types.\n"
   ]
  },
  {
   "cell_type": "markdown",
   "id": "9338c56f-a194-42c6-a5e2-bbe9872f98d4",
   "metadata": {},
   "source": [
    "<br>\n",
    "\n",
    "### Debugging\n",
    "\n",
    "One common error when working with variables is to accidentally introduce typos.\n",
    "For instance, if we spell `hours_per_day` as `hours_per_dy`, Python will error with \n",
    "message `NameError: name 'hours_per_dy' is not defined`.\n"
   ]
  },
  {
   "cell_type": "code",
   "execution_count": null,
   "id": "60ad67a8-fb96-4175-80f8-bf8df0318bd8",
   "metadata": {},
   "outputs": [],
   "source": [
    "print(hours_per_dy)"
   ]
  },
  {
   "cell_type": "markdown",
   "id": "eb0f6b44-41f2-49a6-9419-285d2d96ea40",
   "metadata": {},
   "source": [
    "<br>\n",
    "\n",
    "When you see `NameError` like this, it's an indication that you should check \n",
    "how you have spelled the variable that it references as \"not defined\". \n",
    "Then, to fix the error, you need only correct the spelling.\n"
   ]
  },
  {
   "cell_type": "code",
   "execution_count": null,
   "id": "9249e0b0-b0d2-437c-8810-99f8bde63df2",
   "metadata": {},
   "outputs": [],
   "source": [
    "print(hours_per_day)"
   ]
  },
  {
   "cell_type": "markdown",
   "id": "3283a216-141f-4ec8-bedb-fe7084e9c3cd",
   "metadata": {},
   "source": [
    "<br>\n",
    "\n",
    "## What's next?\n",
    "\n",
    "Now it's your turn to [practice manipulating variables with arithmetic]()."
   ]
  }
 ],
 "metadata": {
  "kernelspec": {
   "display_name": "Python 3 (ipykernel)",
   "language": "python",
   "name": "python3"
  },
  "language_info": {
   "codemirror_mode": {
    "name": "ipython",
    "version": 3
   },
   "file_extension": ".py",
   "mimetype": "text/x-python",
   "name": "python",
   "nbconvert_exporter": "python",
   "pygments_lexer": "ipython3",
   "version": "3.9.7"
  }
 },
 "nbformat": 4,
 "nbformat_minor": 5
}
