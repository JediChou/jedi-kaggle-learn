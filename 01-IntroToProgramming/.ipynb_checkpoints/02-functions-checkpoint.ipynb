{
 "cells": [
  {
   "cell_type": "markdown",
   "id": "b4355596-834c-466c-bbd9-caec8304799e",
   "metadata": {},
   "source": [
    "# Functions\n",
    "\n",
    "Organize your code and avoid redundancy.\n"
   ]
  },
  {
   "cell_type": "markdown",
   "id": "a81aa887-197d-49a8-ad30-0260e0023913",
   "metadata": {},
   "source": [
    "<br>\n",
    "\n",
    "## Introduction\n",
    "\n",
    "In this lesson, you will learn how to organize your code with functions. \n",
    "A **function** is a block of code designed to perform a specific task. \n",
    "As you'll see, functions will let you do roughly the same calculation multiple \n",
    "times without duplicating any code.\n"
   ]
  },
  {
   "cell_type": "markdown",
   "id": "6cc7098c-d890-46bf-86d8-7b4e2285c299",
   "metadata": {},
   "source": [
    "<br>\n",
    "\n",
    "## Intro to functions: a simple example\n",
    "\n",
    "We begin with a simple example of a function. The `add_three()` function below \n",
    "accepts any number, adds three to it, and then returns the result.\n"
   ]
  },
  {
   "cell_type": "code",
   "execution_count": 1,
   "id": "dda903cf-87d2-44da-a4fb-36fd7e68af43",
   "metadata": {},
   "outputs": [],
   "source": [
    "# Define the function\n",
    "def add_three(input_var):\n",
    "    output_var = input_var + 3\n",
    "    return output_var\n"
   ]
  },
  {
   "cell_type": "markdown",
   "id": "85b506a3-2223-4e1e-a196-b3e9b296372c",
   "metadata": {},
   "source": [
    "Every function is composed of two pieces: a **header** and **body**.\n",
    "\n",
    "![Function Introduction](../img/gu0AWhK.png)"
   ]
  },
  {
   "cell_type": "markdown",
   "id": "0cf1b3df-b330-4c19-b153-847714cec2d7",
   "metadata": {},
   "source": [
    "<br>\n",
    "\n",
    "### Header\n",
    "\n",
    "The function **header** defines the name of the function and its argument(s).\n",
    "\n",
    "* Every function header begins with `def`, which tells Python that we are about to define a function.\n",
    "* In the example, the function name is `add_three`.\n",
    "* In the example, the argument is `input_var`. The **argument** is the name of the variable that will be used as input to the function. It is always enclosed in parentheses that apppear immediately after the name of the function. (*Note that a function can also have no arguments, or it can have multiple arguments. You'll see some examples of this later in the lesson.*)\n",
    "* For every function, the parentheses enclosing the function argument(s) must be followed by a colon `:`.\n"
   ]
  },
  {
   "cell_type": "markdown",
   "id": "df6ccfa5-fd0c-4f54-a403-df9f0906caa8",
   "metadata": {},
   "source": [
    "<br>\n",
    "\n",
    "### Body\n",
    "\n",
    "The function **body** specifies the work that the function does.\n",
    "\n",
    "* Every line of code in the function body must be indented exactly four spaces. You can do this by pushing the space bar four times, or by hitting the \"Tab\" button once on your keyboard. (*As you learn more about Python, you may need to indent your code by more than four spaces, but you'll learn more about that later in this course.*)\n",
    "* The function does its work by running all of the indented lines from top to bottom.\n",
    "  * It takes the argument as input, which in the example is `input_var`.\n",
    "  * The function creates a new variable `output_var` with the calculation `output_var = input_var + 3`.\n",
    "  * Then, the final line of code, called the **return statement**, just returns the value in `output_var` as the function's output.\n",
    "\n",
    "The code cell above just defines the function, but does not run it.\n",
    "The details of the function body will make more sense after the next\n",
    "code cell, when we actually run the function.\n"
   ]
  },
  {
   "cell_type": "markdown",
   "id": "db49d80c-4504-4515-8480-17a87d795c98",
   "metadata": {},
   "source": [
    "<br>\n",
    "\n",
    "## How to run (or \"call\") a function\n",
    "\n",
    "When we run a function, it can also be referred to as \"calling\" the function.\n",
    "\n",
    "In the code cell below, we run the function with 10 as the input value.\n",
    "We define a new variable new_number which is set to the output of the function.\n"
   ]
  },
  {
   "cell_type": "code",
   "execution_count": 2,
   "id": "b300c4e4-d28b-4a70-8d2e-54bcf0d6f32a",
   "metadata": {},
   "outputs": [
    {
     "name": "stdout",
     "output_type": "stream",
     "text": [
      "13\n"
     ]
    }
   ],
   "source": [
    "# Run the function with 10 as input\n",
    "new_number = add_three(10)\n",
    "\n",
    "# Check that the value is 13, as expected\n",
    "print(new_number)"
   ]
  },
  {
   "cell_type": "markdown",
   "id": "23e4eece-0c95-4288-9417-f223bbe0d831",
   "metadata": {},
   "source": [
    "<br>\n",
    "\n",
    "![call-function](../img/hlUbxQE.png)\n",
    "\n",
    "In more detail,\n",
    "\n",
    "* `add_three(10)` is the value that we get as output when we supply `10` as the value for `input_var` and call the `add_three()` function. When the function runs, it runs all of the code in its body, from top to bottom:\n",
    "  * It first calculates `output_var = input_var + 3`, which sets `output_var = 13`.\n",
    "  * The final line of code is the return statement, which returns the value of `output_var`, which is `13`.\n",
    "* By setting `new_number = add_three(10)`, we set `new_number = 13`.\n",
    "\n",
    "**Note**: When we casually refer to the `add_three()` function in this tutorial, \n",
    "we use empty closing parentheses after the function name. This is consistent with\n",
    "how people generally write explanations of Python code, and the empty parentheses\n",
    "just make it clear that we are referring to a function, as opposed to a variable\n",
    "or another Python object. These parentheses should always be empty, even if the\n",
    "function has arguments.\n"
   ]
  },
  {
   "cell_type": "markdown",
   "id": "3548f31a-b8be-4db5-9026-09653b5fe812",
   "metadata": {},
   "source": [
    "<br>\n",
    "\n",
    "## Naming functions\n",
    "\n",
    "In the example above, the name of the function was selected for you.\n",
    "When naming your own functions, you should use only lowercase letters,\n",
    "with words separated by underscores instead of spaces.\n",
    "\n",
    "Naming functions will feel natural over time, and it is normal for it\n",
    "to feel uncomfortable at first. The best way to learn is by viewing a\n",
    "lot of Python code.\n"
   ]
  },
  {
   "cell_type": "markdown",
   "id": "5bcd9df9-f5b0-48ec-a6b5-a1cc50fca020",
   "metadata": {},
   "source": [
    "<br>\n",
    "\n",
    "## A more complex example\n",
    "\n",
    "Now that you understand the basics, we can move on to an example with a longer calculation.\n",
    "\n",
    "Say you are helping a friend to calculate their weekly paycheck after taxes.\n",
    "\n",
    "* They're in a 12% tax bracket (in other words, 12% of their salary is taken for taxes, and they only take home 88%), and\n",
    "* They're paid hourly, at a rate of $15$/hour.\n",
    "\n",
    "The function below calculates the paycheck based on the number of hours worked.\n",
    "The function is more complicated than with the first example, because the function\n",
    "has more lines of code and comments. Similar to the example above, the function has\n",
    "a single argument (num hours). In the function body, we:\n",
    "\n",
    "* Use the value for `num_hours` to specify the value for a new variable `pay_pretax`.\n",
    "* Use the value of `pay_pretax` to specify the value for a new variable `pay_aftertax`.\n",
    "* Return the value of the `pay_aftertax` variable.\n"
   ]
  },
  {
   "cell_type": "code",
   "execution_count": 3,
   "id": "29be0b55-2ad9-4f04-ad40-838a4679b248",
   "metadata": {},
   "outputs": [],
   "source": [
    "def get_pay(num_hours):\n",
    "    # Pre-tax pay, based on receiving $15/hour\n",
    "    pay_pretax = num_hours * 15\n",
    "    # After-tax pay, based on being in 12% tax bracket\n",
    "    pay_aftertax = pay_pretax * (1 - .12)\n",
    "    return pay_aftertax"
   ]
  },
  {
   "cell_type": "markdown",
   "id": "23962e0a-9b01-4e79-b8e7-3345dc78957a",
   "metadata": {},
   "source": [
    "<br>\n",
    "\n",
    "We call this function the same way we called the first function. The next code cell \n",
    "calculates the paycheck, based on working 40 hours. (After taxes, it is \\$528.)"
   ]
  },
  {
   "cell_type": "code",
   "execution_count": 4,
   "id": "4420747d-71ab-47da-8be9-d9bf0fa86088",
   "metadata": {},
   "outputs": [
    {
     "name": "stdout",
     "output_type": "stream",
     "text": [
      "528.0\n"
     ]
    }
   ],
   "source": [
    "# Calculate pay based on working 40 hours\n",
    "pay_fulltime = get_pay(40)\n",
    "print(pay_fulltime)"
   ]
  },
  {
   "cell_type": "markdown",
   "id": "3c44c4cf-d498-4e26-a988-508123a36fbf",
   "metadata": {},
   "source": [
    "<br>\n",
    "\n",
    "To quickly calculate pay based on a different number of hours worked, \n",
    "you need to supply the function with a different number. For instance, \n",
    "say your friend works 32 hours. (Then, they get \\$422.40.)\n"
   ]
  },
  {
   "cell_type": "code",
   "execution_count": 5,
   "id": "e72499d8-4f1f-448f-9f0a-4e09d5d23fdf",
   "metadata": {},
   "outputs": [
    {
     "name": "stdout",
     "output_type": "stream",
     "text": [
      "422.4\n"
     ]
    }
   ],
   "source": [
    "pay_parttime = get_pay(32)\n",
    "print(pay_parttime)"
   ]
  },
  {
   "cell_type": "markdown",
   "id": "331b2b47-c271-4f96-9510-85f9bad19046",
   "metadata": {},
   "source": [
    "<br>\n",
    "\n",
    "Because you wrote a function, you can calculate pay for different hours\n",
    "without having to rewrite all of the code in the calculations all over again.\n",
    "\n",
    "Functions can help you to avoid errors in your code, and you save a lot\n",
    "of time. In general, when coding, you should aim to write as little as \n",
    "possible, because each time you type out a calculation, it's another \n",
    "opportunity to accidentally introduce a typo or error.\n"
   ]
  },
  {
   "cell_type": "markdown",
   "id": "6cac7958-68bd-49de-a575-48853e333b09",
   "metadata": {},
   "source": [
    "<br>\n",
    "\n",
    "## Variable \"scope\"\n",
    "\n",
    "Variables defined inside the function body cannot be accessed outside of the function. For instance, the next code cell errors, because `pay_aftertax` only exists inside the function.\n"
   ]
  },
  {
   "cell_type": "code",
   "execution_count": 6,
   "id": "230d4e0a-886d-4f75-8be3-43536d07edd9",
   "metadata": {},
   "outputs": [
    {
     "ename": "NameError",
     "evalue": "name 'pay_aftertax' is not defined",
     "output_type": "error",
     "traceback": [
      "\u001b[1;31m---------------------------------------------------------------------------\u001b[0m",
      "\u001b[1;31mNameError\u001b[0m                                 Traceback (most recent call last)",
      "\u001b[1;32m~\\AppData\\Local\\Temp/ipykernel_15508/2991332200.py\u001b[0m in \u001b[0;36m<module>\u001b[1;34m\u001b[0m\n\u001b[1;32m----> 1\u001b[1;33m \u001b[0mprint\u001b[0m\u001b[1;33m(\u001b[0m\u001b[0mpay_aftertax\u001b[0m\u001b[1;33m)\u001b[0m\u001b[1;33m\u001b[0m\u001b[1;33m\u001b[0m\u001b[0m\n\u001b[0m",
      "\u001b[1;31mNameError\u001b[0m: name 'pay_aftertax' is not defined"
     ]
    }
   ],
   "source": [
    "print(pay_aftertax)"
   ]
  },
  {
   "cell_type": "markdown",
   "id": "6dc395d4-dffa-4237-aeac-825da33a292a",
   "metadata": {},
   "source": [
    "<br>\n",
    "\n",
    "You will get the same error if you try to print `pay_pretax` or `num_hours`. For this reason, if you need any information from a function, you need to make sure that appears in the return statement at the end of the function.\n",
    "\n",
    "We refer to a variable's **scope** as the part of the code where it is accessible. Variables defined inside a function (like `pay_aftertax`) have a local scope of that function only. However, as you've seen, variables defined outside all functions (like `pay_parttime`) have a global scope and can be accessed anywhere.\n"
   ]
  },
  {
   "cell_type": "markdown",
   "id": "7885a2fe-f617-487a-a4de-3bdf1f147e40",
   "metadata": {},
   "source": [
    "<br>\n",
    "\n",
    "## Functions with multiple arguments\n",
    "\n",
    "So far, you have learned how to define a function with just one argument. To define a function with multiple arguments, you only need to add more arguments inside the parentheses in the function head and separate them with a comma.\n",
    "\n",
    "We do this with the `get_pay_with_more_inputs()` function below, which calculates a weekly paycheck based on three arguments:\n",
    "\n",
    "* `num_hours` - number of hours worked in one week\n",
    "* `hourly_wage` - the hourly wage (in $/hour)\n",
    "* `tax_bracket` - percentage of your salary that is removed for taxes\n"
   ]
  },
  {
   "cell_type": "code",
   "execution_count": 7,
   "id": "941d7c22-5458-4e89-ab1f-53c05f550b58",
   "metadata": {},
   "outputs": [],
   "source": [
    "def get_pay_with_more_inputs(num_hours, hourly_wage, tax_bracket):\n",
    "    # Pre-tax pay\n",
    "    pay_pretax = num_hours * hourly_wage\n",
    "    # After-tax pay\n",
    "    pay_aftertax = pay_pretax * (1 - tax_bracket)\n",
    "    return pay_aftertax"
   ]
  },
  {
   "cell_type": "markdown",
   "id": "e8bf633b-aca1-4732-af55-c456d8c5e008",
   "metadata": {},
   "source": [
    "<br>\n",
    "\n",
    "Then, to call the function, you need to provide one value for each input, again separated by a comma.\n",
    "\n",
    "In the code cell below, we calculate the pay after taxes for someone who works 40 hours, makes `$24/hour`, and is in a `22%` tax bracket.\n"
   ]
  },
  {
   "cell_type": "code",
   "execution_count": 8,
   "id": "9cfc231d-bf02-4a5f-9750-8802843ba613",
   "metadata": {},
   "outputs": [
    {
     "name": "stdout",
     "output_type": "stream",
     "text": [
      "748.8000000000001\n"
     ]
    }
   ],
   "source": [
    "higher_pay_aftertax = get_pay_with_more_inputs(40, 24, .22)\n",
    "print(higher_pay_aftertax)"
   ]
  },
  {
   "cell_type": "markdown",
   "id": "b940775f-096d-47f3-b62c-92a88db8f9f3",
   "metadata": {},
   "source": [
    "<br>\n",
    "\n",
    "The following code cell gives the same result as when we ran `get_pay(40)`, because hourly_wage is set to 15, and `tax_bracket` is set to `12%`, which lines up with how we designed `get_pay`.\n"
   ]
  },
  {
   "cell_type": "code",
   "execution_count": 9,
   "id": "76a7bd23-f5d7-46fd-8de1-7ca42ee106db",
   "metadata": {},
   "outputs": [
    {
     "name": "stdout",
     "output_type": "stream",
     "text": [
      "528.0\n"
     ]
    }
   ],
   "source": [
    "same_pay_fulltime = get_pay_with_more_inputs(40, 15, .12)\n",
    "print(same_pay_fulltime)"
   ]
  },
  {
   "cell_type": "markdown",
   "id": "829a5d09-c369-455b-992a-7fa71d904751",
   "metadata": {},
   "source": [
    "<br>\n",
    "\n",
    "Depending on how we plan to use this new function `get_pay_with_more_inputs()`, it can be more useful than the original function `get_pay()`, because it addresses more cases. Instead of potentially incorrectly assuming the hourly wage and tax bracket, the new function allows the user to specify the correct values. But, if you're sure the hourly wage and tax bracket won't need to change, the new function is just more complicated than necessary. In general, when defining functions, you'll need to consider how much flexibility you need, based on your use case.\n"
   ]
  },
  {
   "cell_type": "markdown",
   "id": "94fd1349-e1d0-459f-b924-efc13ad6f0f0",
   "metadata": {},
   "source": [
    "<br>\n",
    "\n",
    "## Functions with no arguments\n",
    "\n",
    "Note that it's possible to define function with no arguments, and that don't have a return statement. The `print_hello()` function in the code cell below is an example.\n"
   ]
  },
  {
   "cell_type": "code",
   "execution_count": 10,
   "id": "df4276a9-3e7a-46b6-b79a-d52ade6f0c03",
   "metadata": {},
   "outputs": [
    {
     "name": "stdout",
     "output_type": "stream",
     "text": [
      "Hello, you!\n",
      "Good morning!\n"
     ]
    }
   ],
   "source": [
    "# Define the function with no arguments and with no return\n",
    "def print_hello():\n",
    "    print(\"Hello, you!\")\n",
    "    print(\"Good morning!\")\n",
    "    \n",
    "# Call the function\n",
    "print_hello()"
   ]
  },
  {
   "cell_type": "markdown",
   "id": "35ed20f9-4a4c-4d7a-8cfd-84a470ea2f6a",
   "metadata": {},
   "source": [
    "<br>\n",
    "\n",
    "This course is short and meant as an introduction to programming, so we won't cover everything you need to know about functions in this tutorial. You'll learn even more about functions in the [Python course]().\n"
   ]
  },
  {
   "cell_type": "markdown",
   "id": "be5bb849-c788-4cad-92f0-bed8921e2fa5",
   "metadata": {},
   "source": [
    "<br>\n",
    "\n",
    "## Your turn\n",
    "\n",
    "It's time to [write your own functions in Python]().\n"
   ]
  }
 ],
 "metadata": {
  "kernelspec": {
   "display_name": "Python 3 (ipykernel)",
   "language": "python",
   "name": "python3"
  },
  "language_info": {
   "codemirror_mode": {
    "name": "ipython",
    "version": 3
   },
   "file_extension": ".py",
   "mimetype": "text/x-python",
   "name": "python",
   "nbconvert_exporter": "python",
   "pygments_lexer": "ipython3",
   "version": "3.9.7"
  }
 },
 "nbformat": 4,
 "nbformat_minor": 5
}
